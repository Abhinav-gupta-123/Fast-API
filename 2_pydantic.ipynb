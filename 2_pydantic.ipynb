{
 "cells": [
  {
   "cell_type": "markdown",
   "id": "95015c4b",
   "metadata": {},
   "source": [
    "# Here we will learn about pydantic for data validation and many more, this is required before make the API with HTTP methods , Fast API depends on 2 library 1.starlite 2.pydantic"
   ]
  },
  {
   "cell_type": "markdown",
   "id": "ee125105",
   "metadata": {},
   "source": [
    "# We will learn from skretch to Advanced"
   ]
  },
  {
   "cell_type": "code",
   "execution_count": 124,
   "id": "f8c092aa",
   "metadata": {},
   "outputs": [],
   "source": [
    "from pydantic import BaseModel\n",
    "from typing import List,Dict,Optional"
   ]
  },
  {
   "cell_type": "code",
   "execution_count": 125,
   "id": "85ad566f",
   "metadata": {},
   "outputs": [],
   "source": [
    "class patient(BaseModel):\n",
    "    name:str\n",
    "    age:int\n",
    "    weight:float\n",
    "    married:bool\n",
    "    allergies:Optional[List[str]]=None\n",
    "    contact_details:Dict[str,str]\n",
    "\n",
    "    ''' Here we use typing module because we want to  \n",
    "     specify the data types of inner elements of list and dict'''"
   ]
  },
  {
   "cell_type": "code",
   "execution_count": 126,
   "id": "29e698d6",
   "metadata": {},
   "outputs": [],
   "source": [
    "def insert_data(patient:patient):\n",
    "    print(patient.name)\n",
    "    print(patient.age)\n",
    "    print(patient.weight)\n",
    "    print(patient.married)\n",
    "    print(patient.allergies)\n",
    "    print(patient.contact_details)\n",
    "\n",
    "    print('Details inserted')"
   ]
  },
  {
   "cell_type": "markdown",
   "id": "34be79ac",
   "metadata": {},
   "source": [
    "here we can see, we send the age str type but still it convert it in int,but if we send like nighteen it will crash or give error"
   ]
  },
  {
   "cell_type": "markdown",
   "id": "823257a3",
   "metadata": {},
   "source": [
    "As we are not sending the allergies still it works because we make allergies optional"
   ]
  },
  {
   "cell_type": "code",
   "execution_count": 127,
   "id": "0e5750ba",
   "metadata": {},
   "outputs": [],
   "source": [
    "patient_info={'name':'Abhinav Gupta','age':'19','weight':70,'married':1,'contact_details':{'phone_Number':'9981384743','Email':'abhinavg963@gmail.com'}}"
   ]
  },
  {
   "cell_type": "code",
   "execution_count": 128,
   "id": "75ced578",
   "metadata": {},
   "outputs": [],
   "source": [
    "patient1=patient(**patient_info)"
   ]
  },
  {
   "cell_type": "code",
   "execution_count": 129,
   "id": "551f8d4f",
   "metadata": {},
   "outputs": [
    {
     "name": "stdout",
     "output_type": "stream",
     "text": [
      "Abhinav Gupta\n",
      "19\n",
      "70.0\n",
      "True\n",
      "None\n",
      "{'phone_Number': '9981384743', 'Email': 'abhinavg963@gmail.com'}\n",
      "Details inserted\n"
     ]
    }
   ],
   "source": [
    "insert_data(patient1)"
   ]
  },
  {
   "cell_type": "code",
   "execution_count": 130,
   "id": "a70a03cd",
   "metadata": {},
   "outputs": [
    {
     "data": {
      "text/plain": [
       "int"
      ]
     },
     "execution_count": 130,
     "metadata": {},
     "output_type": "execute_result"
    }
   ],
   "source": [
    "type(patient1.age)"
   ]
  },
  {
   "cell_type": "code",
   "execution_count": null,
   "id": "989e0885",
   "metadata": {},
   "outputs": [],
   "source": []
  }
 ],
 "metadata": {
  "kernelspec": {
   "display_name": ".venv",
   "language": "python",
   "name": "python3"
  },
  "language_info": {
   "codemirror_mode": {
    "name": "ipython",
    "version": 3
   },
   "file_extension": ".py",
   "mimetype": "text/x-python",
   "name": "python",
   "nbconvert_exporter": "python",
   "pygments_lexer": "ipython3",
   "version": "3.12.4"
  }
 },
 "nbformat": 4,
 "nbformat_minor": 5
}
